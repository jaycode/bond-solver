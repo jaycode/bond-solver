{
 "cells": [
  {
   "cell_type": "code",
   "execution_count": 3,
   "id": "06f9c91d",
   "metadata": {},
   "outputs": [],
   "source": [
    "import tensorflow as tf\n",
    "import os\n",
    "import matplotlib.pyplot as plt\n",
    "import numpy as np\n",
    "import cv2\n",
    "import xml.etree.ElementTree as ET\n",
    "from PIL import Image\n",
    "import pandas as pd\n",
    "import pytesseract\n",
    "from sklearn.model_selection import train_test_split\n",
    "import tensorflow as tf"
   ]
  },
  {
   "cell_type": "code",
   "execution_count": 4,
   "id": "070c5722",
   "metadata": {},
   "outputs": [],
   "source": [
    "def euc_dist(point1, point2):\n",
    "    dist = np.linalg.norm(point1 - point2)\n",
    "    return dist\n",
    "\n",
    "def show_image_plt(image_arr):\n",
    "    plt.figure(figsize=(5,5))\n",
    "    plt.imshow(image_arr)\n",
    "    plt.show()\n",
    "\n",
    "def save_image(name, image_arr):\n",
    "    im = Image.fromarray(image_arr)\n",
    "    im.save(name)"
   ]
  },
  {
   "cell_type": "code",
   "execution_count": null,
   "id": "81040ab4",
   "metadata": {},
   "outputs": [],
   "source": []
  }
 ],
 "metadata": {
  "kernelspec": {
   "display_name": "Python 3 (ipykernel)",
   "language": "python",
   "name": "python3"
  },
  "language_info": {
   "codemirror_mode": {
    "name": "ipython",
    "version": 3
   },
   "file_extension": ".py",
   "mimetype": "text/x-python",
   "name": "python",
   "nbconvert_exporter": "python",
   "pygments_lexer": "ipython3",
   "version": "3.9.15"
  }
 },
 "nbformat": 4,
 "nbformat_minor": 5
}
