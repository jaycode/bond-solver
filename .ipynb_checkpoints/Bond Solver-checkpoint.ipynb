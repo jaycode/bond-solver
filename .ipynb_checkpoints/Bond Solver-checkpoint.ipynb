{
 "cells": [
  {
   "cell_type": "code",
   "execution_count": 1,
   "id": "b6c9d460",
   "metadata": {},
   "outputs": [
    {
     "data": {
      "text/latex": [
       "$\\displaystyle 3.0$"
      ],
      "text/plain": [
       "3.00000000000000"
      ]
     },
     "execution_count": 1,
     "metadata": {},
     "output_type": "execute_result"
    }
   ],
   "source": [
    "from sympy.solvers import solve, nsolve\n",
    "from sympy import Symbol, Sum, Eq\n",
    "import math\n",
    "# x = Symbol('x1')\n",
    "T = 2\n",
    "t = Symbol('t')\n",
    "x = Sum(t, (t, 0, T))\n",
    "x.evalf()"
   ]
  },
  {
   "cell_type": "code",
   "execution_count": 15,
   "id": "c3a1f560",
   "metadata": {},
   "outputs": [],
   "source": [
    "c_value = 0.1\n",
    "fv_value = 1000\n",
    "T_value = 5\n",
    "p_value = 927.90\n",
    "ytm_value = 0.12\n",
    "\n",
    "c = Symbol('c') # Coupon (annual %)\n",
    "ytm = Symbol('ytm') # Yield to Maturity\n",
    "fv = Symbol('fv') # Face Value\n",
    "T = Symbol('T')\n",
    "t = Symbol('t')\n",
    "p = Symbol('p') # price\n",
    "\n",
    "# expr should equal 0.\n",
    "expr = Sum((fv*c)/ (1 + ytm)**t, (t, 1, T)) + (fv / (1 + ytm)**T) - p\n",
    "\n",
    "# This is how to solve for Price\n",
    "solved_p = solve(expr.evalf(subs={'c': c_value, 'ytm': ytm_value, 'fv': fv_value, 'T': T_value}), p)[0]\n",
    "assert(solved_p - p_value < 0.01)\n",
    "\n",
    "# Ths is how to solve for YTM\n",
    "solved_ytm = nsolve(expr.evalf(subs={'c': c_value, 'fv': fv_value, 'T': T_value, 'p': p_value}), ytm, c_value)\n",
    "assert(solved_ytm - ytm_value < 0.00001)"
   ]
  },
  {
   "cell_type": "code",
   "execution_count": 6,
   "id": "54b7fffc",
   "metadata": {},
   "outputs": [
    {
     "data": {
      "text/plain": [
       "2.9499999999999997"
      ]
     },
     "execution_count": 6,
     "metadata": {},
     "output_type": "execute_result"
    }
   ],
   "source": [
    "100 * 0.0295 / (1 + 99991)**0"
   ]
  },
  {
   "cell_type": "code",
   "execution_count": 24,
   "id": "36049acd",
   "metadata": {},
   "outputs": [
    {
     "data": {
      "text/plain": [
       "0.027958062905641512"
      ]
     },
     "execution_count": 24,
     "metadata": {},
     "output_type": "execute_result"
    }
   ],
   "source": [
    "# 1 year, 2.95%, price 100.15\n",
    "\n",
    "(100 + 0.0295 * 100) / 100.15 - 1"
   ]
  },
  {
   "cell_type": "code",
   "execution_count": 18,
   "id": "1365d6fc",
   "metadata": {},
   "outputs": [
    {
     "data": {
      "text/latex": [
       "$\\displaystyle 0.0279580629056415$"
      ],
      "text/plain": [
       "0.0279580629056415"
      ]
     },
     "execution_count": 18,
     "metadata": {},
     "output_type": "execute_result"
    }
   ],
   "source": [
    "# 1 year, 2.95%, price 100.15 using the formula\n",
    "\n",
    "expr = Sum((fv*c)/ (1 + ytm)**t, (t, 1, T)) + (fv / (1 + ytm)**T) - p\n",
    "nsolve(expr.evalf(subs={'c': 0.0295, 'fv': 100, 'T': 1, 'p': 100.15}), ytm, c_value)"
   ]
  },
  {
   "cell_type": "code",
   "execution_count": 29,
   "id": "44a019a4",
   "metadata": {},
   "outputs": [
    {
     "data": {
      "text/plain": [
       "0.0020369445831251998"
      ]
     },
     "execution_count": 29,
     "metadata": {},
     "output_type": "execute_result"
    }
   ],
   "source": [
    "# 0.12 year, 2.95%, price 100.15\n",
    "\n",
    "((100 + 0.12 * 0.0295 * 100) / 100.15 - 1) "
   ]
  },
  {
   "cell_type": "code",
   "execution_count": 35,
   "id": "a80d250c",
   "metadata": {},
   "outputs": [
    {
     "data": {
      "text/plain": [
       "8.333333333333334"
      ]
     },
     "execution_count": 35,
     "metadata": {},
     "output_type": "execute_result"
    }
   ],
   "source": [
    "1/0.12"
   ]
  },
  {
   "cell_type": "code",
   "execution_count": 36,
   "id": "d9d16df1",
   "metadata": {},
   "outputs": [
    {
     "name": "stdout",
     "output_type": "stream",
     "text": [
      "yield: 0.0020369445831251998\n",
      "annualized yield: 0.016974538192709998\n",
      "taxed annualized yield: 0.015277084373438998\n"
     ]
    }
   ],
   "source": [
    "# 0.12 year, 2.95%, price 100.15\n",
    "\n",
    "y = ((100 + 0.12 * 0.0295 * 100) / 100.15 - 1)\n",
    "print(\"yield:\", y)\n",
    "\n",
    "ann_y = 1/0.12 * y\n",
    "print(\"annualized yield:\", ann_y)\n",
    "\n",
    "taxed_ann_y = ann_y * 0.9\n",
    "print(\"taxed annualized yield:\", taxed_ann_y)"
   ]
  },
  {
   "cell_type": "code",
   "execution_count": 9,
   "id": "1d9e4d2f",
   "metadata": {},
   "outputs": [
    {
     "ename": "ValueError",
     "evalue": "Could not find root using the given solver.\nTry another starting point or tweak arguments.",
     "output_type": "error",
     "traceback": [
      "\u001b[0;31m---------------------------------------------------------------------------\u001b[0m",
      "\u001b[0;31mValueError\u001b[0m                                Traceback (most recent call last)",
      "\u001b[0;32m/tmp/ipykernel_84023/632468950.py\u001b[0m in \u001b[0;36m<module>\u001b[0;34m\u001b[0m\n\u001b[1;32m     25\u001b[0m \u001b[0;34m\u001b[0m\u001b[0m\n\u001b[1;32m     26\u001b[0m \u001b[0;31m# Ths is how to solve for YTM\u001b[0m\u001b[0;34m\u001b[0m\u001b[0;34m\u001b[0m\u001b[0m\n\u001b[0;32m---> 27\u001b[0;31m \u001b[0msolved_ytm\u001b[0m \u001b[0;34m=\u001b[0m \u001b[0mnsolve\u001b[0m\u001b[0;34m(\u001b[0m\u001b[0mexpr\u001b[0m\u001b[0;34m.\u001b[0m\u001b[0mevalf\u001b[0m\u001b[0;34m(\u001b[0m\u001b[0msubs\u001b[0m\u001b[0;34m=\u001b[0m\u001b[0;34m{\u001b[0m\u001b[0;34m'c'\u001b[0m\u001b[0;34m:\u001b[0m \u001b[0mc_value\u001b[0m\u001b[0;34m,\u001b[0m \u001b[0;34m'fv'\u001b[0m\u001b[0;34m:\u001b[0m \u001b[0mfv_value\u001b[0m\u001b[0;34m,\u001b[0m \u001b[0;34m'T'\u001b[0m\u001b[0;34m:\u001b[0m \u001b[0mT_value\u001b[0m\u001b[0;34m,\u001b[0m \u001b[0;34m'p'\u001b[0m\u001b[0;34m:\u001b[0m \u001b[0mp_value\u001b[0m\u001b[0;34m}\u001b[0m\u001b[0;34m)\u001b[0m\u001b[0;34m,\u001b[0m \u001b[0mytm\u001b[0m\u001b[0;34m,\u001b[0m \u001b[0mc_value\u001b[0m\u001b[0;34m)\u001b[0m\u001b[0;34m\u001b[0m\u001b[0;34m\u001b[0m\u001b[0m\n\u001b[0m\u001b[1;32m     28\u001b[0m \u001b[0mprint\u001b[0m\u001b[0;34m(\u001b[0m\u001b[0msolved_ytm\u001b[0m\u001b[0;34m)\u001b[0m\u001b[0;34m\u001b[0m\u001b[0;34m\u001b[0m\u001b[0m\n",
      "\u001b[0;32m~/.virtualenvs/default/lib/python3.9/site-packages/sympy/utilities/decorator.py\u001b[0m in \u001b[0;36mfunc_wrapper\u001b[0;34m(*args, **kwargs)\u001b[0m\n\u001b[1;32m     86\u001b[0m         \u001b[0mdps\u001b[0m \u001b[0;34m=\u001b[0m \u001b[0mmpmath\u001b[0m\u001b[0;34m.\u001b[0m\u001b[0mmp\u001b[0m\u001b[0;34m.\u001b[0m\u001b[0mdps\u001b[0m\u001b[0;34m\u001b[0m\u001b[0;34m\u001b[0m\u001b[0m\n\u001b[1;32m     87\u001b[0m         \u001b[0;32mtry\u001b[0m\u001b[0;34m:\u001b[0m\u001b[0;34m\u001b[0m\u001b[0;34m\u001b[0m\u001b[0m\n\u001b[0;32m---> 88\u001b[0;31m             \u001b[0;32mreturn\u001b[0m \u001b[0mfunc\u001b[0m\u001b[0;34m(\u001b[0m\u001b[0;34m*\u001b[0m\u001b[0margs\u001b[0m\u001b[0;34m,\u001b[0m \u001b[0;34m**\u001b[0m\u001b[0mkwargs\u001b[0m\u001b[0;34m)\u001b[0m\u001b[0;34m\u001b[0m\u001b[0;34m\u001b[0m\u001b[0m\n\u001b[0m\u001b[1;32m     89\u001b[0m         \u001b[0;32mfinally\u001b[0m\u001b[0;34m:\u001b[0m\u001b[0;34m\u001b[0m\u001b[0;34m\u001b[0m\u001b[0m\n\u001b[1;32m     90\u001b[0m             \u001b[0mmpmath\u001b[0m\u001b[0;34m.\u001b[0m\u001b[0mmp\u001b[0m\u001b[0;34m.\u001b[0m\u001b[0mdps\u001b[0m \u001b[0;34m=\u001b[0m \u001b[0mdps\u001b[0m\u001b[0;34m\u001b[0m\u001b[0;34m\u001b[0m\u001b[0m\n",
      "\u001b[0;32m~/.virtualenvs/default/lib/python3.9/site-packages/sympy/solvers/solvers.py\u001b[0m in \u001b[0;36mnsolve\u001b[0;34m(dict, *args, **kwargs)\u001b[0m\n\u001b[1;32m   2938\u001b[0m \u001b[0;34m\u001b[0m\u001b[0m\n\u001b[1;32m   2939\u001b[0m         \u001b[0mf\u001b[0m \u001b[0;34m=\u001b[0m \u001b[0mlambdify\u001b[0m\u001b[0;34m(\u001b[0m\u001b[0mfargs\u001b[0m\u001b[0;34m,\u001b[0m \u001b[0mf\u001b[0m\u001b[0;34m,\u001b[0m \u001b[0mmodules\u001b[0m\u001b[0;34m)\u001b[0m\u001b[0;34m\u001b[0m\u001b[0;34m\u001b[0m\u001b[0m\n\u001b[0;32m-> 2940\u001b[0;31m         \u001b[0mx\u001b[0m \u001b[0;34m=\u001b[0m \u001b[0msympify\u001b[0m\u001b[0;34m(\u001b[0m\u001b[0mfindroot\u001b[0m\u001b[0;34m(\u001b[0m\u001b[0mf\u001b[0m\u001b[0;34m,\u001b[0m \u001b[0mx0\u001b[0m\u001b[0;34m,\u001b[0m \u001b[0;34m**\u001b[0m\u001b[0mkwargs\u001b[0m\u001b[0;34m)\u001b[0m\u001b[0;34m)\u001b[0m\u001b[0;34m\u001b[0m\u001b[0;34m\u001b[0m\u001b[0m\n\u001b[0m\u001b[1;32m   2941\u001b[0m         \u001b[0;32mif\u001b[0m \u001b[0mas_dict\u001b[0m\u001b[0;34m:\u001b[0m\u001b[0;34m\u001b[0m\u001b[0;34m\u001b[0m\u001b[0m\n\u001b[1;32m   2942\u001b[0m             \u001b[0;32mreturn\u001b[0m \u001b[0;34m[\u001b[0m\u001b[0;34m{\u001b[0m\u001b[0mfargs\u001b[0m\u001b[0;34m:\u001b[0m \u001b[0mx\u001b[0m\u001b[0;34m}\u001b[0m\u001b[0;34m]\u001b[0m\u001b[0;34m\u001b[0m\u001b[0;34m\u001b[0m\u001b[0m\n",
      "\u001b[0;32m~/.virtualenvs/default/lib/python3.9/site-packages/mpmath/calculus/optimization.py\u001b[0m in \u001b[0;36mfindroot\u001b[0;34m(ctx, f, x0, solver, tol, verbose, verify, **kwargs)\u001b[0m\n\u001b[1;32m    976\u001b[0m         \u001b[0;32melse\u001b[0m\u001b[0;34m:\u001b[0m\u001b[0;34m\u001b[0m\u001b[0;34m\u001b[0m\u001b[0m\n\u001b[1;32m    977\u001b[0m             \u001b[0;32mif\u001b[0m \u001b[0;32mnot\u001b[0m \u001b[0mi\u001b[0m\u001b[0;34m:\u001b[0m\u001b[0;34m\u001b[0m\u001b[0;34m\u001b[0m\u001b[0m\n\u001b[0;32m--> 978\u001b[0;31m                 raise ValueError('Could not find root using the given solver.\\n'\n\u001b[0m\u001b[1;32m    979\u001b[0m                                  'Try another starting point or tweak arguments.')\n\u001b[1;32m    980\u001b[0m         \u001b[0;32mif\u001b[0m \u001b[0;32mnot\u001b[0m \u001b[0misinstance\u001b[0m\u001b[0;34m(\u001b[0m\u001b[0mx\u001b[0m\u001b[0;34m,\u001b[0m \u001b[0;34m(\u001b[0m\u001b[0mlist\u001b[0m\u001b[0;34m,\u001b[0m \u001b[0mtuple\u001b[0m\u001b[0;34m,\u001b[0m \u001b[0mctx\u001b[0m\u001b[0;34m.\u001b[0m\u001b[0mmatrix\u001b[0m\u001b[0;34m)\u001b[0m\u001b[0;34m)\u001b[0m\u001b[0;34m:\u001b[0m\u001b[0;34m\u001b[0m\u001b[0;34m\u001b[0m\u001b[0m\n",
      "\u001b[0;31mValueError\u001b[0m: Could not find root using the given solver.\nTry another starting point or tweak arguments."
     ]
    }
   ],
   "source": [
    "c_value = 0.0295\n",
    "fv_value = 100\n",
    "T_value = 0.12\n",
    "p_value = 100.15\n",
    "ytm_value = 0.0155 # Unknown\n",
    "\n",
    "c = Symbol('c') # Coupon (annual %)\n",
    "ytm = Symbol('ytm') # Yield to Maturity\n",
    "fv = Symbol('fv') # Face Value\n",
    "T = Symbol('T')\n",
    "t = Symbol('t')\n",
    "p = Symbol('p') # price\n",
    "\n",
    "# expr should equal 0.\n",
    "T_decimal = T % 1\n",
    "T_floor = T - T_decimal\n",
    "expr = Sum((fv*c)/ (1 + ytm)**t, (t, 1, T_floor)) + \\\n",
    "       (fv / (1 + ytm)**T_floor) + \\\n",
    "       (T_decimal * fv / (1 + ytm)**T_floor) - p\n",
    "# \n",
    "# This is how to solve for Price\n",
    "# solved_p = solve(expr.evalf(subs={'c': c_value, 'ytm': ytm_value, 'fv': fv_value, 'T': T_value}), p)[0]\n",
    "# print(solved_p)\n",
    "# assert(solved_p - p_value < 0.01)\n",
    "\n",
    "# Ths is how to solve for YTM\n",
    "solved_ytm = nsolve(expr.evalf(subs={'c': c_value, 'fv': fv_value, 'T': T_value, 'p': p_value}), ytm, c_value)\n",
    "print(solved_ytm)"
   ]
  },
  {
   "cell_type": "code",
   "execution_count": 16,
   "id": "45673bb1",
   "metadata": {},
   "outputs": [
    {
     "data": {
      "text/plain": [
       "0.8799999999999999"
      ]
     },
     "execution_count": 16,
     "metadata": {},
     "output_type": "execute_result"
    }
   ],
   "source": [
    "T_value = 4.12\n",
    "1 - T_value % 1"
   ]
  },
  {
   "cell_type": "code",
   "execution_count": 11,
   "id": "cb768602",
   "metadata": {},
   "outputs": [
    {
     "data": {
      "text/plain": [
       "0.5"
      ]
     },
     "execution_count": 11,
     "metadata": {},
     "output_type": "execute_result"
    }
   ],
   "source": [
    "0.5 % 10"
   ]
  }
 ],
 "metadata": {
  "kernelspec": {
   "display_name": "Python 3 (ipykernel)",
   "language": "python",
   "name": "python3"
  },
  "language_info": {
   "codemirror_mode": {
    "name": "ipython",
    "version": 3
   },
   "file_extension": ".py",
   "mimetype": "text/x-python",
   "name": "python",
   "nbconvert_exporter": "python",
   "pygments_lexer": "ipython3",
   "version": "3.9.15"
  }
 },
 "nbformat": 4,
 "nbformat_minor": 5
}
