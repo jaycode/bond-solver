{
 "cells": [
  {
   "cell_type": "code",
   "execution_count": 15,
   "id": "b6c9d460",
   "metadata": {},
   "outputs": [
    {
     "data": {
      "text/latex": [
       "$\\displaystyle 3.0$"
      ],
      "text/plain": [
       "3.00000000000000"
      ]
     },
     "execution_count": 15,
     "metadata": {},
     "output_type": "execute_result"
    }
   ],
   "source": [
    "from sympy.solvers import solve, nsolve\n",
    "from sympy import Symbol, Sum, Eq\n",
    "# x = Symbol('x1')\n",
    "T = 2\n",
    "t = Symbol('t')\n",
    "x = Sum(t, (t, 0, T))\n",
    "x.evalf()"
   ]
  },
  {
   "cell_type": "code",
   "execution_count": 38,
   "id": "c3a1f560",
   "metadata": {},
   "outputs": [
    {
     "ename": "AssertionError",
     "evalue": "",
     "output_type": "error",
     "traceback": [
      "\u001b[0;31m---------------------------------------------------------------------------\u001b[0m",
      "\u001b[0;31mAssertionError\u001b[0m                            Traceback (most recent call last)",
      "\u001b[0;32m/tmp/ipykernel_13033/2757876711.py\u001b[0m in \u001b[0;36m<module>\u001b[0;34m\u001b[0m\n\u001b[1;32m     16\u001b[0m \u001b[0;34m\u001b[0m\u001b[0m\n\u001b[1;32m     17\u001b[0m \u001b[0;31m# This is how to solve for Price\u001b[0m\u001b[0;34m\u001b[0m\u001b[0;34m\u001b[0m\u001b[0m\n\u001b[0;32m---> 18\u001b[0;31m \u001b[0;32massert\u001b[0m\u001b[0;34m(\u001b[0m\u001b[0msolve\u001b[0m\u001b[0;34m(\u001b[0m\u001b[0mexpr\u001b[0m\u001b[0;34m.\u001b[0m\u001b[0mevalf\u001b[0m\u001b[0;34m(\u001b[0m\u001b[0msubs\u001b[0m\u001b[0;34m=\u001b[0m\u001b[0;34m{\u001b[0m\u001b[0;34m'c'\u001b[0m\u001b[0;34m:\u001b[0m \u001b[0mc_value\u001b[0m\u001b[0;34m,\u001b[0m \u001b[0;34m'ytm'\u001b[0m\u001b[0;34m:\u001b[0m \u001b[0mytm_value\u001b[0m\u001b[0;34m,\u001b[0m \u001b[0;34m'fv'\u001b[0m\u001b[0;34m:\u001b[0m \u001b[0mfv_value\u001b[0m\u001b[0;34m,\u001b[0m \u001b[0;34m'T'\u001b[0m\u001b[0;34m:\u001b[0m \u001b[0mT_value\u001b[0m\u001b[0;34m}\u001b[0m\u001b[0;34m)\u001b[0m\u001b[0;34m,\u001b[0m \u001b[0mp\u001b[0m\u001b[0;34m)\u001b[0m\u001b[0;34m[\u001b[0m\u001b[0;36m0\u001b[0m\u001b[0;34m]\u001b[0m \u001b[0;34m-\u001b[0m \u001b[0mp_value\u001b[0m \u001b[0;34m<\u001b[0m \u001b[0;36m0.001\u001b[0m\u001b[0;34m)\u001b[0m\u001b[0;34m\u001b[0m\u001b[0;34m\u001b[0m\u001b[0m\n\u001b[0m\u001b[1;32m     19\u001b[0m \u001b[0;34m\u001b[0m\u001b[0m\n\u001b[1;32m     20\u001b[0m \u001b[0;31m# Ths is how to solve for YTM\u001b[0m\u001b[0;34m\u001b[0m\u001b[0;34m\u001b[0m\u001b[0m\n",
      "\u001b[0;31mAssertionError\u001b[0m: "
     ]
    }
   ],
   "source": [
    "c_value = 0.1\n",
    "fv_value = 1000\n",
    "T_value = 5\n",
    "p_value = 927.90\n",
    "ytm_value = 0.12\n",
    "\n",
    "c = Symbol('c') # Coupon (annual %)\n",
    "ytm = Symbol('ytm') # Yield to Maturity\n",
    "fv = Symbol('fv') # Face Value\n",
    "T = Symbol('T')\n",
    "t = Symbol('t')\n",
    "p = Symbol('p') # price\n",
    "\n",
    "# expr should equal 0.\n",
    "expr = Sum((fv*c)/ (1 + ytm)**t, (t, 1, T)) + (fv / (1 + ytm)**T) - p\n",
    "\n",
    "# This is how to solve for Price\n",
    "solved_p = solve(expr.evalf(subs={'c': c_value, 'ytm': ytm_value, 'fv': fv_value, 'T': T_value}), p)[0]\n",
    "assert(solved_p - p_value < 0.01)\n",
    "\n",
    "# Ths is how to solve for YTM\n",
    "solved_ytm = nsolve(expr.evalf(subs={'c': c_value, 'fv': fv_value, 'T': T_value, 'p': p_value}), ytm, c_value)\n",
    "assert(solved_ytm - ytm_value < 0.0001)"
   ]
  },
  {
   "cell_type": "code",
   "execution_count": 7,
   "id": "1e093a15",
   "metadata": {},
   "outputs": [
    {
     "data": {
      "text/plain": [
       "[]"
      ]
     },
     "execution_count": 7,
     "metadata": {},
     "output_type": "execute_result"
    }
   ],
   "source": [
    "c_value = 10\n",
    "fv_value = 1000\n",
    "\n",
    "c = Symbol('c') # Coupon (* 100% e.g. 20 means 20%)\n",
    "ytm = Symbol('ytm') # Yield to Maturity\n",
    "fv = Symbol('fv') # Face Value\n",
    "T = Symbol('T')\n",
    "t = Symbol('t')\n",
    "p = Symbol('p') # price\n",
    "\n",
    "# expr should equal 0.\n",
    "expr = Sum((fv*c/100)/ (1 + ytm)**t, (t, 1, T)) + (fv / (1 + ytm)**T) - p\n",
    "\n",
    "# This is how to solve for Price\n",
    "# solve(expr.evalf(subs={'c': 10, 'ytm': 0.12, 'fv': 1000, 'T': 5}), p)[0]\n",
    "\n",
    "# Ths is how to solve for YTM\n",
    "nsolve(expr.evalf(subs={'c': c_value, 'fv': 1000, 'T': 5, 'p': 927.90}), ytm, c_value/100)"
   ]
  },
  {
   "cell_type": "code",
   "execution_count": 3,
   "id": "45673bb1",
   "metadata": {},
   "outputs": [
    {
     "data": {
      "text/plain": [
       "[0.025*(-120.0*T*price0 + 59.0*T + 2000.0*price0)/(3.0*T + 50.0)]"
      ]
     },
     "execution_count": 3,
     "metadata": {},
     "output_type": "execute_result"
    }
   ],
   "source": []
  },
  {
   "cell_type": "code",
   "execution_count": null,
   "id": "cb768602",
   "metadata": {},
   "outputs": [],
   "source": []
  }
 ],
 "metadata": {
  "kernelspec": {
   "display_name": "Python 3 (ipykernel)",
   "language": "python",
   "name": "python3"
  },
  "language_info": {
   "codemirror_mode": {
    "name": "ipython",
    "version": 3
   },
   "file_extension": ".py",
   "mimetype": "text/x-python",
   "name": "python",
   "nbconvert_exporter": "python",
   "pygments_lexer": "ipython3",
   "version": "3.9.15"
  }
 },
 "nbformat": 4,
 "nbformat_minor": 5
}
