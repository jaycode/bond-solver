{
 "cells": [
  {
   "cell_type": "code",
   "execution_count": 1,
   "id": "b6c9d460",
   "metadata": {},
   "outputs": [
    {
     "data": {
      "text/latex": [
       "$\\displaystyle 3.0$"
      ],
      "text/plain": [
       "3.00000000000000"
      ]
     },
     "execution_count": 1,
     "metadata": {},
     "output_type": "execute_result"
    }
   ],
   "source": [
    "from sympy.solvers import solve, nsolve\n",
    "from sympy import Symbol, Sum, Eq\n",
    "import math\n",
    "# x = Symbol('x1')\n",
    "T = 2\n",
    "t = Symbol('t')\n",
    "x = Sum(t, (t, 0, T))\n",
    "x.evalf()"
   ]
  },
  {
   "cell_type": "code",
   "execution_count": 15,
   "id": "c3a1f560",
   "metadata": {},
   "outputs": [],
   "source": [
    "c_value = 0.1\n",
    "fv_value = 1000\n",
    "T_value = 5\n",
    "p_value = 927.90\n",
    "ytm_value = 0.12\n",
    "\n",
    "c = Symbol('c') # Coupon (annual %)\n",
    "ytm = Symbol('ytm') # Yield to Maturity\n",
    "fv = Symbol('fv') # Face Value\n",
    "T = Symbol('T')\n",
    "t = Symbol('t')\n",
    "p = Symbol('p') # price\n",
    "\n",
    "# expr should equal 0.\n",
    "expr = Sum((fv*c)/ (1 + ytm)**t, (t, 1, T)) + (fv / (1 + ytm)**T) - p\n",
    "\n",
    "# This is how to solve for Price\n",
    "solved_p = solve(expr.evalf(subs={'c': c_value, 'ytm': ytm_value, 'fv': fv_value, 'T': T_value}), p)[0]\n",
    "assert(solved_p - p_value < 0.01)\n",
    "\n",
    "# Ths is how to solve for YTM\n",
    "solved_ytm = nsolve(expr.evalf(subs={'c': c_value, 'fv': fv_value, 'T': T_value, 'p': p_value}), ytm, c_value)\n",
    "assert(solved_ytm - ytm_value < 0.00001)"
   ]
  },
  {
   "cell_type": "code",
   "execution_count": 6,
   "id": "0300d6e3",
   "metadata": {},
   "outputs": [
    {
     "data": {
      "text/plain": [
       "2.9499999999999997"
      ]
     },
     "execution_count": 6,
     "metadata": {},
     "output_type": "execute_result"
    }
   ],
   "source": [
    "100 * 0.0295 / (1 + 99991)**0"
   ]
  },
  {
   "cell_type": "code",
   "execution_count": 24,
   "id": "f4c0d951",
   "metadata": {},
   "outputs": [
    {
     "data": {
      "text/plain": [
       "0.027958062905641512"
      ]
     },
     "execution_count": 24,
     "metadata": {},
     "output_type": "execute_result"
    }
   ],
   "source": [
    "# 1 year, 2.95%, price 100.15\n",
    "\n",
    "(100 + 0.0295 * 100) / 100.15 - 1"
   ]
  },
  {
   "cell_type": "code",
   "execution_count": 18,
   "id": "99191ef8",
   "metadata": {},
   "outputs": [
    {
     "data": {
      "text/latex": [
       "$\\displaystyle 0.0279580629056415$"
      ],
      "text/plain": [
       "0.0279580629056415"
      ]
     },
     "execution_count": 18,
     "metadata": {},
     "output_type": "execute_result"
    }
   ],
   "source": [
    "# 1 year, 2.95%, price 100.15 using the formula\n",
    "\n",
    "expr = Sum((fv*c)/ (1 + ytm)**t, (t, 1, T)) + (fv / (1 + ytm)**T) - p\n",
    "nsolve(expr.evalf(subs={'c': 0.0295, 'fv': 100, 'T': 1, 'p': 100.15}), ytm, c_value)"
   ]
  },
  {
   "cell_type": "code",
   "execution_count": 29,
   "id": "a76ee8ee",
   "metadata": {},
   "outputs": [
    {
     "data": {
      "text/plain": [
       "0.0020369445831251998"
      ]
     },
     "execution_count": 29,
     "metadata": {},
     "output_type": "execute_result"
    }
   ],
   "source": [
    "# 0.12 year, 2.95%, price 100.15\n",
    "\n",
    "((100 + 0.12 * 0.0295 * 100) / 100.15 - 1) "
   ]
  },
  {
   "cell_type": "code",
   "execution_count": 35,
   "id": "1205f7ea",
   "metadata": {},
   "outputs": [
    {
     "data": {
      "text/plain": [
       "8.333333333333334"
      ]
     },
     "execution_count": 35,
     "metadata": {},
     "output_type": "execute_result"
    }
   ],
   "source": [
    "1/0.12"
   ]
  },
  {
   "cell_type": "code",
   "execution_count": 75,
   "id": "284c1b28",
   "metadata": {},
   "outputs": [
    {
     "name": "stdout",
     "output_type": "stream",
     "text": [
      "yield: 0.0020369445831251998\n",
      "annualized yield: 0.016974538192709998\n",
      "taxed annualized yield: 0.015277084373438998\n"
     ]
    }
   ],
   "source": [
    "# 0.12 year, 2.95%, price 100.15\n",
    "\n",
    "y = ((100 + 0.12 * 0.0295 * 100) / 100.15 - 1)\n",
    "print(\"yield:\", y)\n",
    "\n",
    "ann_y = y/0.12\n",
    "print(\"annualized yield:\", ann_y)\n",
    "\n",
    "taxed_ann_y = ann_y * 0.9\n",
    "print(\"taxed annualized yield:\", taxed_ann_y)"
   ]
  },
  {
   "cell_type": "markdown",
   "id": "2e01a2fb",
   "metadata": {},
   "source": [
    "((100 + 0.12 * 0.0295 * 100) / 100.15 - 1) = 0.002037\n",
    "0.002037 / 0.12 = 0.01697"
   ]
  },
  {
   "cell_type": "code",
   "execution_count": 42,
   "id": "1bc306a1",
   "metadata": {},
   "outputs": [
    {
     "name": "stdout",
     "output_type": "stream",
     "text": [
      "yield: 0.00858291457286442\n",
      "annualized yield: 0.0715242881072035\n",
      "taxed annualized yield: 0.06437185929648315\n"
     ]
    }
   ],
   "source": [
    "# 0.12 year, 2.95%, price 99.50\n",
    "\n",
    "y = ((100 + 0.12 * 0.0295 * 100) / 99.5 - 1)\n",
    "print(\"yield:\", y)\n",
    "\n",
    "ann_y = 1/0.12 * y\n",
    "print(\"annualized yield:\", ann_y)\n",
    "\n",
    "taxed_ann_y = ann_y * 0.9\n",
    "print(\"taxed annualized yield:\", taxed_ann_y)"
   ]
  },
  {
   "cell_type": "code",
   "execution_count": 54,
   "id": "95f66875",
   "metadata": {},
   "outputs": [],
   "source": [
    "c_value = 0.1\n",
    "fv_value = 1000\n",
    "T_value = 5\n",
    "p_value = 927.90\n",
    "ytm_value = 0.12\n",
    "\n",
    "c = Symbol('c') # Coupon (annual %)\n",
    "ytm = Symbol('ytm') # Yield to Maturity\n",
    "fv = Symbol('fv') # Face Value\n",
    "T = Symbol('T')\n",
    "t = Symbol('t')\n",
    "p = Symbol('p') # price\n",
    "\n",
    "# expr should equal 0.\n",
    "T_decimal = T % 1\n",
    "T_floor = T - T_decimal\n",
    "expr = Sum((fv*c)/ (1 + ytm)**t, (t, 1, T_floor)) \\\n",
    "       + (T_decimal * fv / (1 + ytm)**T_floor) \\\n",
    "       + (fv / (1 + ytm)**T_floor) \\\n",
    "       - p\n",
    "\n",
    "# This is how to solve for Price\n",
    "solved_p = solve(expr.evalf(subs={'c': c_value, 'ytm': ytm_value, 'fv': fv_value, 'T': T_value}), p)[0]\n",
    "assert(solved_p - p_value < 0.01)\n",
    "\n",
    "# Ths is how to solve for YTM\n",
    "solved_ytm = nsolve(expr.evalf(subs={'c': c_value, 'fv': fv_value, 'T': T_value, 'p': p_value}), ytm, c_value)\n",
    "assert(solved_ytm - ytm_value < 0.00001)"
   ]
  },
  {
   "cell_type": "code",
   "execution_count": 72,
   "id": "1d9e4d2f",
   "metadata": {},
   "outputs": [
    {
     "name": "stdout",
     "output_type": "stream",
     "text": [
      "0.132151416289999\n"
     ]
    }
   ],
   "source": [
    "c_value = 0.0295\n",
    "fv_value = 100\n",
    "T_value = 0.12\n",
    "p_value = 100.15\n",
    "ytm_value = 0.0155 # Unknown\n",
    "\n",
    "c = Symbol('c') # Coupon (annual %)\n",
    "ytm = Symbol('ytm') # Yield to Maturity\n",
    "fv = Symbol('fv') # Face Value\n",
    "T = Symbol('T')\n",
    "t = Symbol('t')\n",
    "p = Symbol('p') # price\n",
    "\n",
    "# expr should equal 0.\n",
    "T_decimal = T % 1\n",
    "T_floor = T - T_decimal\n",
    "expr = Sum((fv*c)/ (1 + ytm)**t, (t, 1, T_floor)) \\\n",
    "       + (T_decimal * fv / (1 + ytm)**T_decimal) \\\n",
    "       + (fv / (1 + ytm)**1) \\\n",
    "       - p\n",
    "# \n",
    "# This is how to solve for Price\n",
    "# solved_p = solve(expr.evalf(subs={'c': c_value, 'ytm': ytm_value, 'fv': fv_value, 'T': T_value}), p)[0]\n",
    "# print(solved_p)\n",
    "# assert(solved_p - p_value < 0.01)\n",
    "\n",
    "# Ths is how to solve for YTM\n",
    "solved_ytm = nsolve(expr.evalf(subs={'c': c_value, 'fv': fv_value, 'T': T_value, 'p': p_value}), ytm, 0.002)\n",
    "print(solved_ytm)"
   ]
  },
  {
   "cell_type": "code",
   "execution_count": 66,
   "id": "04ee1101",
   "metadata": {},
   "outputs": [
    {
     "data": {
      "text/latex": [
       "$\\displaystyle 0$"
      ],
      "text/plain": [
       "0"
      ]
     },
     "execution_count": 66,
     "metadata": {},
     "output_type": "execute_result"
    }
   ],
   "source": [
    "T_decimal = T % 1\n",
    "T_floor = T - T_decimal\n",
    "T_expr = Sum(t,(t, 1, T_floor))\n",
    "T_expr.evalf(subs={'T': 0.12})"
   ]
  },
  {
   "cell_type": "code",
   "execution_count": 16,
   "id": "45673bb1",
   "metadata": {},
   "outputs": [
    {
     "data": {
      "text/plain": [
       "0.8799999999999999"
      ]
     },
     "execution_count": 16,
     "metadata": {},
     "output_type": "execute_result"
    }
   ],
   "source": [
    "T_value = 4.12\n",
    "1 - T_value % 1"
   ]
  },
  {
   "cell_type": "code",
   "execution_count": 11,
   "id": "cb768602",
   "metadata": {},
   "outputs": [
    {
     "data": {
      "text/plain": [
       "0.5"
      ]
     },
     "execution_count": 11,
     "metadata": {},
     "output_type": "execute_result"
    }
   ],
   "source": [
    "0.5 % 10"
   ]
  }
 ],
 "metadata": {
  "kernelspec": {
   "display_name": "Python 3 (ipykernel)",
   "language": "python",
   "name": "python3"
  },
  "language_info": {
   "codemirror_mode": {
    "name": "ipython",
    "version": 3
   },
   "file_extension": ".py",
   "mimetype": "text/x-python",
   "name": "python",
   "nbconvert_exporter": "python",
   "pygments_lexer": "ipython3",
   "version": "3.9.15"
  }
 },
 "nbformat": 4,
 "nbformat_minor": 5
}
