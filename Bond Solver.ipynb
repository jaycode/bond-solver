{
 "cells": [
  {
   "cell_type": "code",
   "execution_count": 15,
   "id": "b6c9d460",
   "metadata": {},
   "outputs": [
    {
     "data": {
      "text/latex": [
       "$\\displaystyle 3.0$"
      ],
      "text/plain": [
       "3.00000000000000"
      ]
     },
     "execution_count": 15,
     "metadata": {},
     "output_type": "execute_result"
    }
   ],
   "source": [
    "from sympy.solvers import solve, nsolve\n",
    "from sympy import Symbol, Sum, Eq\n",
    "# x = Symbol('x1')\n",
    "T = 2\n",
    "t = Symbol('t')\n",
    "x = Sum(t, (t, 0, T))\n",
    "x.evalf()"
   ]
  },
  {
   "cell_type": "code",
   "execution_count": 41,
   "id": "c3a1f560",
   "metadata": {},
   "outputs": [],
   "source": [
    "c_value = 0.1\n",
    "fv_value = 1000\n",
    "T_value = 5\n",
    "p_value = 927.90\n",
    "ytm_value = 0.12\n",
    "\n",
    "c = Symbol('c') # Coupon (annual %)\n",
    "ytm = Symbol('ytm') # Yield to Maturity\n",
    "fv = Symbol('fv') # Face Value\n",
    "T = Symbol('T')\n",
    "t = Symbol('t')\n",
    "p = Symbol('p') # price\n",
    "\n",
    "# expr should equal 0.\n",
    "expr = Sum((fv*c)/ (1 + ytm)**t, (t, 1, T)) + (fv / (1 + ytm)**T) - p\n",
    "\n",
    "# This is how to solve for Price\n",
    "solved_p = solve(expr.evalf(subs={'c': c_value, 'ytm': ytm_value, 'fv': fv_value, 'T': T_value}), p)[0]\n",
    "assert(solved_p - p_value < 0.01)\n",
    "\n",
    "# Ths is how to solve for YTM\n",
    "solved_ytm = nsolve(expr.evalf(subs={'c': c_value, 'fv': fv_value, 'T': T_value, 'p': p_value}), ytm, c_value)\n",
    "assert(solved_ytm - ytm_value < 0.00001)"
   ]
  },
  {
   "cell_type": "code",
   "execution_count": 7,
   "id": "1d9e4d2f",
   "metadata": {},
   "outputs": [
    {
     "data": {
      "text/plain": [
       "[]"
      ]
     },
     "execution_count": 7,
     "metadata": {},
     "output_type": "execute_result"
    }
   ],
   "source": [
    "c_value = 0.1\n",
    "fv_value = 1000\n",
    "T_value = 5\n",
    "p_value = 927.90\n",
    "ytm_value = 0.12\n",
    "\n",
    "c = Symbol('c') # Coupon (annual %)\n",
    "ytm = Symbol('ytm') # Yield to Maturity\n",
    "fv = Symbol('fv') # Face Value\n",
    "T = Symbol('T')\n",
    "t = Symbol('t')\n",
    "p = Symbol('p') # price\n",
    "\n",
    "# expr should equal 0.\n",
    "expr = Sum((fv*c)/ (1 + ytm)**t, (t, 1, T)) + (fv / (1 + ytm)**T) - p\n",
    "\n",
    "# This is how to solve for Price\n",
    "solved_p = solve(expr.evalf(subs={'c': c_value, 'ytm': ytm_value, 'fv': fv_value, 'T': T_value}), p)[0]\n",
    "assert(solved_p - p_value < 0.01)\n",
    "\n",
    "# Ths is how to solve for YTM\n",
    "solved_ytm = nsolve(expr.evalf(subs={'c': c_value, 'fv': fv_value, 'T': T_value, 'p': p_value}), ytm, c_value)\n",
    "assert(solved_ytm - ytm_value < 0.00001)"
   ]
  },
  {
   "cell_type": "code",
   "execution_count": 3,
   "id": "45673bb1",
   "metadata": {},
   "outputs": [
    {
     "data": {
      "text/plain": [
       "[0.025*(-120.0*T*price0 + 59.0*T + 2000.0*price0)/(3.0*T + 50.0)]"
      ]
     },
     "execution_count": 3,
     "metadata": {},
     "output_type": "execute_result"
    }
   ],
   "source": []
  },
  {
   "cell_type": "code",
   "execution_count": null,
   "id": "cb768602",
   "metadata": {},
   "outputs": [],
   "source": []
  }
 ],
 "metadata": {
  "kernelspec": {
   "display_name": "Python 3 (ipykernel)",
   "language": "python",
   "name": "python3"
  },
  "language_info": {
   "codemirror_mode": {
    "name": "ipython",
    "version": 3
   },
   "file_extension": ".py",
   "mimetype": "text/x-python",
   "name": "python",
   "nbconvert_exporter": "python",
   "pygments_lexer": "ipython3",
   "version": "3.9.15"
  }
 },
 "nbformat": 4,
 "nbformat_minor": 5
}
